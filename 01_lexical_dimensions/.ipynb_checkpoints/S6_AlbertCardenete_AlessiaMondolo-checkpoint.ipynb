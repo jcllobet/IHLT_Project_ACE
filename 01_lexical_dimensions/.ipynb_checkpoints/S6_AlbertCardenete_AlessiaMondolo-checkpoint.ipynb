{
 "cells": [
  {
   "cell_type": "markdown",
   "metadata": {},
   "source": [
    "# Mandatory exercise"
   ]
  },
  {
   "cell_type": "code",
   "execution_count": 1,
   "metadata": {},
   "outputs": [],
   "source": [
    "import nltk\n",
    "from nltk.wsd import lesk\n",
    "from nltk import pos_tag\n",
    "from nltk.corpus import wordnet as wn\n",
    "from nltk.metrics import jaccard_distance\n",
    "from scipy.stats import pearsonr"
   ]
  },
  {
   "cell_type": "markdown",
   "metadata": {},
   "source": [
    "## 1. Read all pairs of sentences of the trial set within the evaluation framework of the project."
   ]
  },
  {
   "cell_type": "markdown",
   "metadata": {},
   "source": [
    "First we will be reading the trial set, which is located at ../trial/STS.input.txt"
   ]
  },
  {
   "cell_type": "code",
   "execution_count": 2,
   "metadata": {},
   "outputs": [],
   "source": [
    "with open('./trial/STS.input.txt','r') as f:\n",
    "    raw_text = f.read()"
   ]
  },
  {
   "cell_type": "markdown",
   "metadata": {},
   "source": [
    "Once we have the raw text, it is better to convert it into a list:"
   ]
  },
  {
   "cell_type": "code",
   "execution_count": 3,
   "metadata": {},
   "outputs": [
    {
     "data": {
      "text/plain": [
       "[['id1',\n",
       "  'the bird is bathing in the sink.',\n",
       "  'birdie is washing itself in the water basin.'],\n",
       " ['id2',\n",
       "  'in may 2010, the troops attempted to invade kabul.',\n",
       "  'the us army invaded kabul on may 7th last year, 2010.'],\n",
       " ['id3',\n",
       "  'john said he is considered a witness but not a suspect.',\n",
       "  '\"he is not a suspect anymore.\" john said.'],\n",
       " ['id4',\n",
       "  'they flew out of the nest in groups.',\n",
       "  'they flew into the nest together.'],\n",
       " ['id5',\n",
       "  'the woman is playing the violin.',\n",
       "  'the young lady enjoys listening to the guitar.'],\n",
       " ['id6',\n",
       "  'john went horse back riding at dawn with a whole group of friends.',\n",
       "  'sunrise at dawn is a magnificent view to take in if you wake up early enough for it.']]"
      ]
     },
     "execution_count": 3,
     "metadata": {},
     "output_type": "execute_result"
    }
   ],
   "source": [
    "#First we will separate each line of the text\n",
    "formatted_ids = raw_text.split(sep='\\n')\n",
    "#Removing the final blank\n",
    "formatted_ids.remove('')\n",
    "\n",
    "#Then we are going to split once again each line to get \n",
    "#the sentences we need\n",
    "formatted_words = [lst.lower().split(sep='\\t') for lst in formatted_ids]\n",
    "formatted_words"
   ]
  },
  {
   "cell_type": "markdown",
   "metadata": {},
   "source": [
    "## 2. Apply Lesk’s algorithm to the words in the sentences."
   ]
  },
  {
   "cell_type": "code",
   "execution_count": 4,
   "metadata": {},
   "outputs": [
    {
     "name": "stdout",
     "output_type": "stream",
     "text": [
      "[['id1', [('the', 'DT'), ('bird', 'NN'), ('is', 'VBZ'), ('bathing', 'VBG'), ('in', 'IN'), ('the', 'DT'), ('sink', 'NN'), ('.', '.')], [('birdie', 'NN'), ('is', 'VBZ'), ('washing', 'VBG'), ('itself', 'PRP'), ('in', 'IN'), ('the', 'DT'), ('water', 'NN'), ('basin', 'NN'), ('.', '.')]], ['id2', [('in', 'IN'), ('may', 'MD'), ('2010', 'CD'), (',', ','), ('the', 'DT'), ('troops', 'NNS'), ('attempted', 'VBD'), ('to', 'TO'), ('invade', 'VB'), ('kabul', 'NN'), ('.', '.')], [('the', 'DT'), ('us', 'PRP'), ('army', 'VBP'), ('invaded', 'JJ'), ('kabul', 'NN'), ('on', 'IN'), ('may', 'MD'), ('7th', 'CD'), ('last', 'JJ'), ('year', 'NN'), (',', ','), ('2010', 'CD'), ('.', '.')]], ['id3', [('john', 'NN'), ('said', 'VBD'), ('he', 'PRP'), ('is', 'VBZ'), ('considered', 'VBN'), ('a', 'DT'), ('witness', 'NN'), ('but', 'CC'), ('not', 'RB'), ('a', 'DT'), ('suspect', 'NN'), ('.', '.')], [('``', '``'), ('he', 'PRP'), ('is', 'VBZ'), ('not', 'RB'), ('a', 'DT'), ('suspect', 'NN'), ('anymore', 'RB'), ('.', '.'), (\"''\", \"''\"), ('john', 'NN'), ('said', 'VBD'), ('.', '.')]], ['id4', [('they', 'PRP'), ('flew', 'VBD'), ('out', 'IN'), ('of', 'IN'), ('the', 'DT'), ('nest', 'JJS'), ('in', 'IN'), ('groups', 'NNS'), ('.', '.')], [('they', 'PRP'), ('flew', 'VBD'), ('into', 'IN'), ('the', 'DT'), ('nest', 'JJS'), ('together', 'RB'), ('.', '.')]], ['id5', [('the', 'DT'), ('woman', 'NN'), ('is', 'VBZ'), ('playing', 'VBG'), ('the', 'DT'), ('violin', 'NN'), ('.', '.')], [('the', 'DT'), ('young', 'JJ'), ('lady', 'NN'), ('enjoys', 'VBZ'), ('listening', 'VBG'), ('to', 'TO'), ('the', 'DT'), ('guitar', 'NN'), ('.', '.')]], ['id6', [('john', 'NN'), ('went', 'VBD'), ('horse', 'NN'), ('back', 'RB'), ('riding', 'VBG'), ('at', 'IN'), ('dawn', 'NN'), ('with', 'IN'), ('a', 'DT'), ('whole', 'JJ'), ('group', 'NN'), ('of', 'IN'), ('friends', 'NNS'), ('.', '.')], [('sunrise', 'NN'), ('at', 'IN'), ('dawn', 'NN'), ('is', 'VBZ'), ('a', 'DT'), ('magnificent', 'JJ'), ('view', 'NN'), ('to', 'TO'), ('take', 'VB'), ('in', 'IN'), ('if', 'IN'), ('you', 'PRP'), ('wake', 'VBP'), ('up', 'RP'), ('early', 'RB'), ('enough', 'RB'), ('for', 'IN'), ('it', 'PRP'), ('.', '.')]]]\n"
     ]
    }
   ],
   "source": [
    "#First we need the words:\n",
    "test_words = [[formatted_words[i][0],nltk.word_tokenize(formatted_words[i][1]),\n",
    "               nltk.word_tokenize(formatted_words[i][2])] for i in range(len(formatted_words))]\n",
    "#Then their POS:\n",
    "test_pos = [[i[0], pos_tag(i[1]), pos_tag(i[2])] for i in test_words]\n",
    "print(test_pos)"
   ]
  },
  {
   "cell_type": "markdown",
   "metadata": {},
   "source": [
    "As Lesk's algorithm works with synsets, not every word will be accepted. Just nouns, verbs, adjectives and adverbs"
   ]
  },
  {
   "cell_type": "code",
   "execution_count": 5,
   "metadata": {},
   "outputs": [],
   "source": [
    "def lesker_sentence(pos_tag_sentence):\n",
    "    \"\"\"\n",
    "    Returns a sentence as the given sentece using lesker algorithms.\n",
    "    The input sentence must be a pos_tagged sentence (e.g. [('The', 'DN'),\n",
    "    ('sun', 'NN')]).\n",
    "    \"\"\"\n",
    "    sentence = [i[0] for i in pos_tag_sentence]\n",
    "    final_sentence = []\n",
    "    for word, tag in pos_tag_sentence:\n",
    "        #if word is a noun\n",
    "        if tag.startswith('N') and (type(lesk(sentence, word, wn.NOUN))!=type(None)):\n",
    "            final_sentence.append(lesk(sentence, word, wn.NOUN).name())\n",
    "        #if word is a verb\n",
    "        elif tag.startswith('V') and (type(lesk(sentence, word, wn.VERB))!=type(None)):\n",
    "            final_sentence.append(lesk(sentence, word, wn.VERB).name())\n",
    "        #if word is an adjective\n",
    "        elif tag.startswith('J') and (type(lesk(sentence, word, wn.ADJ))!=type(None)):\n",
    "            final_sentence.append(lesk(sentence, word, wn.ADJ).name())\n",
    "        #if word is a verb\n",
    "        elif tag.startswith('R') and (type(lesk(sentence, word, wn.ADV))!=type(None)):\n",
    "            final_sentence.append(lesk(sentence, word, wn.ADV).name())\n",
    "        else:\n",
    "            final_sentence.append(word)\n",
    "    print(final_sentence)\n",
    "    return final_sentence\n"
   ]
  },
  {
   "cell_type": "code",
   "execution_count": 6,
   "metadata": {},
   "outputs": [
    {
     "name": "stdout",
     "output_type": "stream",
     "text": [
      "['the', 'bird.n.02', 'be.v.12', 'bathe.v.01', 'in', 'the', 'sinkhole.n.01', '.']\n",
      "['shuttlecock.n.01', 'be.v.12', 'wash.v.09', 'itself', 'in', 'the', 'body_of_water.n.01', 'washbasin.n.01', '.']\n",
      "['in', 'may', '2010', ',', 'the', 'troop.n.02', 'undertake.v.01', 'to', 'invade.v.04', 'kabul.n.01', '.']\n",
      "['the', 'us', 'army', 'invaded', 'kabul.n.01', 'on', 'may', '7th', 'last.a.02', 'year.n.03', ',', '2010', '.']\n",
      "['whoremaster.n.01', 'suppose.v.01', 'he', 'embody.v.02', 'view.v.02', 'a', 'witness.n.05', 'but', 'not.r.01', 'a', 'defendant.n.01', '.']\n",
      "['``', 'he', 'embody.v.02', 'not.r.01', 'a', 'defendant.n.01', 'anymore.r.01', '.', \"''\", 'whoremaster.n.01', 'suppose.v.01', '.']\n",
      "['they', 'fly.v.12', 'out', 'of', 'the', 'nest', 'in', 'group.n.02', '.']\n",
      "['they', 'fly.v.10', 'into', 'the', 'nest', 'together.r.04', '.']\n",
      "['the', 'woman.n.02', 'be.v.05', 'play.v.35', 'the', 'violin.n.01', '.']\n",
      "['the', 'young.a.01', 'lady.n.03', 'love.v.02', 'heed.v.01', 'to', 'the', 'guitar.n.01', '.']\n",
      "['toilet.n.01', 'plump.v.04', 'knight.n.02', 'back.r.02', 'ride.v.13', 'at', 'dawn.n.01', 'with', 'a', 'whole.a.02', 'group.n.02', 'of', 'friend.n.05', '.']\n",
      "['sunrise.n.03', 'at', 'dawn.n.03', 'be.v.12', 'a', 'magnificent', 'view.n.07', 'to', 'take.v.34', 'in', 'if', 'you', 'awaken.v.01', 'up.r.05', 'early_on.r.01', 'enough.r.01', 'for', 'it', '.']\n"
     ]
    }
   ],
   "source": [
    "valid_pairs = []\n",
    "for i in range(len(test_pos)):\n",
    "    valid_pairs.append([])\n",
    "    valid_pairs[i].append(test_pos[i][0])\n",
    "    for j in range(2):\n",
    "        valid_pairs[i].append([])\n",
    "        valid_pairs[i][j+1].extend(lesker_sentence(test_pos[i][j+1]))"
   ]
  },
  {
   "cell_type": "markdown",
   "metadata": {},
   "source": [
    "## 3. Compute their similarities by considering senses and Jaccard coefficient."
   ]
  },
  {
   "cell_type": "markdown",
   "metadata": {},
   "source": [
    "Now that we hace converted all our synset words considering their most probable sense, we are able to compute their similarities"
   ]
  },
  {
   "cell_type": "code",
   "execution_count": 7,
   "metadata": {},
   "outputs": [
    {
     "data": {
      "text/plain": [
       "[0.33333333333333337,\n",
       " 0.33333333333333337,\n",
       " 0.5714285714285714,\n",
       " 0.33333333333333337,\n",
       " 0.16666666666666663,\n",
       " 0.09999999999999998]"
      ]
     },
     "execution_count": 7,
     "metadata": {},
     "output_type": "execute_result"
    }
   ],
   "source": [
    "similarities = [1.-jaccard_distance(set(i[1]), set(i[2])) for i in valid_pairs]\n",
    "similarities"
   ]
  },
  {
   "cell_type": "markdown",
   "metadata": {},
   "source": [
    "## 4. Compare the results with those in session 2 (document) and 3 (morphology) in which words and lemmas were considered."
   ]
  },
  {
   "cell_type": "markdown",
   "metadata": {},
   "source": [
    "In session 2 we got the following results inwhich raw words were considered:\n",
    "* **'id1': 0.3076923076923077**\n",
    "* **'id2': 0.26315789473684215**\n",
    "* **'id3': 0.4666666666666667**\n",
    "* **'id4': 0.4545454545454546**\n",
    "* **'id5': 0.23076923076923073**\n",
    "* **'id6': 0.13793103448275867**\n",
    "\n",
    "In ession 3, using lemma similarity, we got:\n",
    "* **'id1': 0.33333333333333337**\n",
    "* **'id2': 0.4117647058823529**\n",
    "* **'id3': 0.5714285714285714**\n",
    "* **'id4': 0.4545454545454546**\n",
    "* **'id5': 0.16666666666666663**\n",
    "* **'id6': 0.13793103448275867**\n",
    "\n",
    "As we can see, using synsets the similarities have changed significantly. The main changes that we see are:\n",
    "* Same similarity in the first pair: this is due to the fact that although considering synsets, the results weren't the same synsets for the words considered. If two words don't have the same sense, this won't count as a similarity.\n",
    "* Lower similarity on the last pair: using word sense disambiguation has made that this two sentences have became less similar. This is due to the fact that although having a same word, their senses are not the same, and so they are not similar\n",
    "\n",
    "Tere have been also some minor changes in the second pair, in which similarity has decreased. Finally, the fourth part has been labeled more properly, decreasing its significance also."
   ]
  },
  {
   "cell_type": "markdown",
   "metadata": {},
   "source": [
    "## 5. Compare the results with gold standard by giving the pearson correlation between them."
   ]
  },
  {
   "cell_type": "code",
   "execution_count": 9,
   "metadata": {},
   "outputs": [],
   "source": [
    "#Reading he gold standard:\n",
    "with open('./trial/STS.gs.txt','r') as f:\n",
    "    plain_gs = f.read()\n",
    "\n",
    "#First we will separate each line of the text\n",
    "formatted_gs = plain_gs.split(sep='\\n')\n",
    "#Removing the final blank\n",
    "formatted_gs.remove('')\n",
    "\n",
    "words_gs = [lst.split(sep='\\t') for lst in formatted_gs]\n",
    "gold_standard = [int(i[1]) for i in words_gs]\n",
    "gs_list = list(gold_standard)"
   ]
  },
  {
   "cell_type": "code",
   "execution_count": 10,
   "metadata": {},
   "outputs": [
    {
     "data": {
      "text/plain": [
       "-0.6206712050540985"
      ]
     },
     "execution_count": 10,
     "metadata": {},
     "output_type": "execute_result"
    }
   ],
   "source": [
    "pearsonr(gs_list, similarities)[0]"
   ]
  },
  {
   "cell_type": "markdown",
   "metadata": {},
   "source": [
    "As we can see, the correlation with the gold standard has increased significantly compared to the previous results (0.579 the previous better one). Using word disambiguation seems a good aproach towards semantic textual similarity. Although that, this is not good enough, this process keeps asigning a low similarity to the first pair. \n",
    "\n",
    "In order to increase the similarity of those sentences, we could use more information from the synsets that we have just extracted. Comparing the distances in the synset graph could give us more information in order to get a better similarity. FOr instance, two words could be similar, and they might have different synsets. But those synsets would be similar if those words are clo though."
   ]
  },
  {
   "cell_type": "code",
   "execution_count": null,
   "metadata": {},
   "outputs": [],
   "source": []
  }
 ],
 "metadata": {
  "kernelspec": {
   "display_name": "Python 3",
   "language": "python",
   "name": "python3"
  },
  "language_info": {
   "codemirror_mode": {
    "name": "ipython",
    "version": 3
   },
   "file_extension": ".py",
   "mimetype": "text/x-python",
   "name": "python",
   "nbconvert_exporter": "python",
   "pygments_lexer": "ipython3",
   "version": "3.6.7"
  }
 },
 "nbformat": 4,
 "nbformat_minor": 2
}
